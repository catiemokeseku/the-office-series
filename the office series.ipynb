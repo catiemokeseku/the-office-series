{
 "cells": [
  {
   "cell_type": "markdown",
   "id": "026c353d",
   "metadata": {},
   "source": [
    "# Investigating The Effect of Guest Stars on The Office Series"
   ]
  },
  {
   "cell_type": "markdown",
   "id": "1566bcec",
   "metadata": {},
   "source": [
    "### Importing libraries"
   ]
  },
  {
   "cell_type": "code",
   "execution_count": 1,
   "id": "e32e6323",
   "metadata": {},
   "outputs": [],
   "source": [
    "import pandas as pd\n",
    "import matplotlib.pyplot as plt\n",
    "from sklearn.preprocessing import MinMaxScaler\n",
    "import seaborn as sns"
   ]
  },
  {
   "cell_type": "markdown",
   "id": "83a4fe53",
   "metadata": {},
   "source": [
    "### Initializing the MinMaxScaler"
   ]
  },
  {
   "cell_type": "code",
   "execution_count": 2,
   "id": "b830d952",
   "metadata": {},
   "outputs": [],
   "source": [
    "mmscaler = MinMaxScaler()"
   ]
  },
  {
   "cell_type": "markdown",
   "id": "94e95093",
   "metadata": {},
   "source": [
    "### Reading the csv file and inspect the first five rows of the office dataframe"
   ]
  },
  {
   "cell_type": "code",
   "execution_count": 3,
   "id": "c114d71d",
   "metadata": {},
   "outputs": [
    {
     "data": {
      "text/html": [
       "<div>\n",
       "<style scoped>\n",
       "    .dataframe tbody tr th:only-of-type {\n",
       "        vertical-align: middle;\n",
       "    }\n",
       "\n",
       "    .dataframe tbody tr th {\n",
       "        vertical-align: top;\n",
       "    }\n",
       "\n",
       "    .dataframe thead th {\n",
       "        text-align: right;\n",
       "    }\n",
       "</style>\n",
       "<table border=\"1\" class=\"dataframe\">\n",
       "  <thead>\n",
       "    <tr style=\"text-align: right;\">\n",
       "      <th></th>\n",
       "      <th>Unnamed: 0</th>\n",
       "      <th>Season</th>\n",
       "      <th>EpisodeTitle</th>\n",
       "      <th>About</th>\n",
       "      <th>Ratings</th>\n",
       "      <th>Votes</th>\n",
       "      <th>Viewership</th>\n",
       "      <th>Duration</th>\n",
       "      <th>Date</th>\n",
       "      <th>GuestStars</th>\n",
       "      <th>Director</th>\n",
       "      <th>Writers</th>\n",
       "    </tr>\n",
       "  </thead>\n",
       "  <tbody>\n",
       "    <tr>\n",
       "      <th>0</th>\n",
       "      <td>0</td>\n",
       "      <td>1</td>\n",
       "      <td>Pilot</td>\n",
       "      <td>The premiere episode introduces the boss and s...</td>\n",
       "      <td>7.5</td>\n",
       "      <td>4936</td>\n",
       "      <td>11.2</td>\n",
       "      <td>23</td>\n",
       "      <td>24 March 2005</td>\n",
       "      <td>NaN</td>\n",
       "      <td>Ken Kwapis</td>\n",
       "      <td>Ricky Gervais |Stephen Merchant and Greg Daniels</td>\n",
       "    </tr>\n",
       "    <tr>\n",
       "      <th>1</th>\n",
       "      <td>1</td>\n",
       "      <td>1</td>\n",
       "      <td>Diversity Day</td>\n",
       "      <td>Michael's off color remark puts a sensitivity ...</td>\n",
       "      <td>8.3</td>\n",
       "      <td>4801</td>\n",
       "      <td>6.0</td>\n",
       "      <td>23</td>\n",
       "      <td>29 March 2005</td>\n",
       "      <td>NaN</td>\n",
       "      <td>Ken Kwapis</td>\n",
       "      <td>B. J. Novak</td>\n",
       "    </tr>\n",
       "    <tr>\n",
       "      <th>2</th>\n",
       "      <td>2</td>\n",
       "      <td>1</td>\n",
       "      <td>Health Care</td>\n",
       "      <td>Michael leaves Dwight in charge of picking the...</td>\n",
       "      <td>7.8</td>\n",
       "      <td>4024</td>\n",
       "      <td>5.8</td>\n",
       "      <td>22</td>\n",
       "      <td>5 April 2005</td>\n",
       "      <td>NaN</td>\n",
       "      <td>Ken Whittingham</td>\n",
       "      <td>Paul Lieberstein</td>\n",
       "    </tr>\n",
       "    <tr>\n",
       "      <th>3</th>\n",
       "      <td>3</td>\n",
       "      <td>1</td>\n",
       "      <td>The Alliance</td>\n",
       "      <td>Just for a laugh, Jim agrees to an alliance wi...</td>\n",
       "      <td>8.1</td>\n",
       "      <td>3915</td>\n",
       "      <td>5.4</td>\n",
       "      <td>23</td>\n",
       "      <td>12 April 2005</td>\n",
       "      <td>NaN</td>\n",
       "      <td>Bryan Gordon</td>\n",
       "      <td>Michael Schur</td>\n",
       "    </tr>\n",
       "    <tr>\n",
       "      <th>4</th>\n",
       "      <td>4</td>\n",
       "      <td>1</td>\n",
       "      <td>Basketball</td>\n",
       "      <td>Michael and his staff challenge the warehouse ...</td>\n",
       "      <td>8.4</td>\n",
       "      <td>4294</td>\n",
       "      <td>5.0</td>\n",
       "      <td>23</td>\n",
       "      <td>19 April 2005</td>\n",
       "      <td>NaN</td>\n",
       "      <td>Greg Daniels</td>\n",
       "      <td>Greg Daniels</td>\n",
       "    </tr>\n",
       "  </tbody>\n",
       "</table>\n",
       "</div>"
      ],
      "text/plain": [
       "   Unnamed: 0  Season   EpisodeTitle  \\\n",
       "0           0       1          Pilot   \n",
       "1           1       1  Diversity Day   \n",
       "2           2       1    Health Care   \n",
       "3           3       1   The Alliance   \n",
       "4           4       1     Basketball   \n",
       "\n",
       "                                               About  Ratings  Votes  \\\n",
       "0  The premiere episode introduces the boss and s...      7.5   4936   \n",
       "1  Michael's off color remark puts a sensitivity ...      8.3   4801   \n",
       "2  Michael leaves Dwight in charge of picking the...      7.8   4024   \n",
       "3  Just for a laugh, Jim agrees to an alliance wi...      8.1   3915   \n",
       "4  Michael and his staff challenge the warehouse ...      8.4   4294   \n",
       "\n",
       "   Viewership  Duration            Date GuestStars         Director  \\\n",
       "0        11.2        23   24 March 2005        NaN       Ken Kwapis   \n",
       "1         6.0        23   29 March 2005        NaN       Ken Kwapis   \n",
       "2         5.8        22    5 April 2005        NaN  Ken Whittingham   \n",
       "3         5.4        23   12 April 2005        NaN     Bryan Gordon   \n",
       "4         5.0        23   19 April 2005        NaN     Greg Daniels   \n",
       "\n",
       "                                            Writers  \n",
       "0  Ricky Gervais |Stephen Merchant and Greg Daniels  \n",
       "1                                       B. J. Novak  \n",
       "2                                  Paul Lieberstein  \n",
       "3                                     Michael Schur  \n",
       "4                                      Greg Daniels  "
      ]
     },
     "execution_count": 3,
     "metadata": {},
     "output_type": "execute_result"
    }
   ],
   "source": [
    "office = pd.read_csv('the_office_series.csv')\n",
    "office.head()"
   ]
  },
  {
   "cell_type": "markdown",
   "id": "daf52eb9",
   "metadata": {},
   "source": [
    "### Getting basic information on office dataframe"
   ]
  },
  {
   "cell_type": "code",
   "execution_count": 4,
   "id": "ef388cb3",
   "metadata": {},
   "outputs": [
    {
     "name": "stdout",
     "output_type": "stream",
     "text": [
      "<class 'pandas.core.frame.DataFrame'>\n",
      "RangeIndex: 188 entries, 0 to 187\n",
      "Data columns (total 12 columns):\n",
      " #   Column        Non-Null Count  Dtype  \n",
      "---  ------        --------------  -----  \n",
      " 0   Unnamed: 0    188 non-null    int64  \n",
      " 1   Season        188 non-null    int64  \n",
      " 2   EpisodeTitle  188 non-null    object \n",
      " 3   About         188 non-null    object \n",
      " 4   Ratings       188 non-null    float64\n",
      " 5   Votes         188 non-null    int64  \n",
      " 6   Viewership    188 non-null    float64\n",
      " 7   Duration      188 non-null    int64  \n",
      " 8   Date          188 non-null    object \n",
      " 9   GuestStars    29 non-null     object \n",
      " 10  Director      188 non-null    object \n",
      " 11  Writers       188 non-null    object \n",
      "dtypes: float64(2), int64(4), object(6)\n",
      "memory usage: 17.8+ KB\n"
     ]
    }
   ],
   "source": [
    "office.info()"
   ]
  },
  {
   "cell_type": "markdown",
   "id": "830f935a",
   "metadata": {},
   "source": [
    "### Converting Date column to datetime type"
   ]
  },
  {
   "cell_type": "code",
   "execution_count": 5,
   "id": "845864d3",
   "metadata": {},
   "outputs": [],
   "source": [
    "office.Date = pd.to_datetime(office.Date)"
   ]
  },
  {
   "cell_type": "markdown",
   "id": "56fe0e1f",
   "metadata": {},
   "source": [
    "### Dropping the Unnamed Column"
   ]
  },
  {
   "cell_type": "code",
   "execution_count": 6,
   "id": "ef09d993",
   "metadata": {},
   "outputs": [
    {
     "name": "stdout",
     "output_type": "stream",
     "text": [
      "<class 'pandas.core.frame.DataFrame'>\n",
      "RangeIndex: 188 entries, 0 to 187\n",
      "Data columns (total 11 columns):\n",
      " #   Column        Non-Null Count  Dtype         \n",
      "---  ------        --------------  -----         \n",
      " 0   Season        188 non-null    int64         \n",
      " 1   EpisodeTitle  188 non-null    object        \n",
      " 2   About         188 non-null    object        \n",
      " 3   Ratings       188 non-null    float64       \n",
      " 4   Votes         188 non-null    int64         \n",
      " 5   Viewership    188 non-null    float64       \n",
      " 6   Duration      188 non-null    int64         \n",
      " 7   Date          188 non-null    datetime64[ns]\n",
      " 8   GuestStars    29 non-null     object        \n",
      " 9   Director      188 non-null    object        \n",
      " 10  Writers       188 non-null    object        \n",
      "dtypes: datetime64[ns](1), float64(2), int64(3), object(5)\n",
      "memory usage: 16.3+ KB\n"
     ]
    }
   ],
   "source": [
    "office.drop('Unnamed: 0', axis = 1, inplace = True)\n",
    "office.info()"
   ]
  },
  {
   "cell_type": "markdown",
   "id": "4a072195",
   "metadata": {},
   "source": [
    "### Group by Season and calculate the average of the Ratings, Votes and Viewership columns"
   ]
  },
  {
   "cell_type": "code",
   "execution_count": 7,
   "id": "accbb0f7",
   "metadata": {},
   "outputs": [
    {
     "data": {
      "text/html": [
       "<div>\n",
       "<style scoped>\n",
       "    .dataframe tbody tr th:only-of-type {\n",
       "        vertical-align: middle;\n",
       "    }\n",
       "\n",
       "    .dataframe tbody tr th {\n",
       "        vertical-align: top;\n",
       "    }\n",
       "\n",
       "    .dataframe thead th {\n",
       "        text-align: right;\n",
       "    }\n",
       "</style>\n",
       "<table border=\"1\" class=\"dataframe\">\n",
       "  <thead>\n",
       "    <tr style=\"text-align: right;\">\n",
       "      <th></th>\n",
       "      <th>Season</th>\n",
       "      <th>Ratings</th>\n",
       "      <th>Votes</th>\n",
       "      <th>Viewership</th>\n",
       "    </tr>\n",
       "  </thead>\n",
       "  <tbody>\n",
       "    <tr>\n",
       "      <th>0</th>\n",
       "      <td>1</td>\n",
       "      <td>7.966667</td>\n",
       "      <td>4304.000000</td>\n",
       "      <td>6.366667</td>\n",
       "    </tr>\n",
       "    <tr>\n",
       "      <th>1</th>\n",
       "      <td>2</td>\n",
       "      <td>8.440909</td>\n",
       "      <td>3493.909091</td>\n",
       "      <td>8.168182</td>\n",
       "    </tr>\n",
       "    <tr>\n",
       "      <th>2</th>\n",
       "      <td>3</td>\n",
       "      <td>8.586957</td>\n",
       "      <td>3224.086957</td>\n",
       "      <td>8.494348</td>\n",
       "    </tr>\n",
       "    <tr>\n",
       "      <th>3</th>\n",
       "      <td>4</td>\n",
       "      <td>8.564286</td>\n",
       "      <td>3195.642857</td>\n",
       "      <td>8.547857</td>\n",
       "    </tr>\n",
       "    <tr>\n",
       "      <th>4</th>\n",
       "      <td>5</td>\n",
       "      <td>8.488462</td>\n",
       "      <td>2885.615385</td>\n",
       "      <td>8.756538</td>\n",
       "    </tr>\n",
       "    <tr>\n",
       "      <th>5</th>\n",
       "      <td>6</td>\n",
       "      <td>8.196154</td>\n",
       "      <td>2505.307692</td>\n",
       "      <td>7.766154</td>\n",
       "    </tr>\n",
       "    <tr>\n",
       "      <th>6</th>\n",
       "      <td>7</td>\n",
       "      <td>8.308333</td>\n",
       "      <td>2748.083333</td>\n",
       "      <td>7.305833</td>\n",
       "    </tr>\n",
       "    <tr>\n",
       "      <th>7</th>\n",
       "      <td>8</td>\n",
       "      <td>7.604167</td>\n",
       "      <td>2039.250000</td>\n",
       "      <td>5.385417</td>\n",
       "    </tr>\n",
       "    <tr>\n",
       "      <th>8</th>\n",
       "      <td>9</td>\n",
       "      <td>7.913043</td>\n",
       "      <td>2475.826087</td>\n",
       "      <td>4.138696</td>\n",
       "    </tr>\n",
       "  </tbody>\n",
       "</table>\n",
       "</div>"
      ],
      "text/plain": [
       "   Season   Ratings        Votes  Viewership\n",
       "0       1  7.966667  4304.000000    6.366667\n",
       "1       2  8.440909  3493.909091    8.168182\n",
       "2       3  8.586957  3224.086957    8.494348\n",
       "3       4  8.564286  3195.642857    8.547857\n",
       "4       5  8.488462  2885.615385    8.756538\n",
       "5       6  8.196154  2505.307692    7.766154\n",
       "6       7  8.308333  2748.083333    7.305833\n",
       "7       8  7.604167  2039.250000    5.385417\n",
       "8       9  7.913043  2475.826087    4.138696"
      ]
     },
     "execution_count": 7,
     "metadata": {},
     "output_type": "execute_result"
    }
   ],
   "source": [
    "averages = office.groupby('Season')[['Ratings', 'Votes', 'Viewership']].mean().reset_index()\n",
    "averages"
   ]
  },
  {
   "cell_type": "markdown",
   "id": "afee0571",
   "metadata": {},
   "source": [
    "### Plot of the Averages of Ratings, Votes and Viewership by Season"
   ]
  },
  {
   "cell_type": "code",
   "execution_count": 8,
   "id": "1bd3cb29",
   "metadata": {},
   "outputs": [
    {
     "data": {
      "image/png": "[encoded data removed]",
      "text/plain": [
       "<Figure size 432x288 with 1 Axes>"
      ]
     },
     "metadata": {},
     "output_type": "display_data"
    }
   ],
   "source": [
    "sns.set_style('whitegrid')\n",
    "sns.set_context('notebook', font_scale = 1)\n",
    "sns.set_palette('Set1')\n",
    "\n",
    "plt.plot(averages.Season, mmscaler.fit_transform(averages[['Ratings']]), label = 'Ratings')\n",
    "plt.plot(averages.Season, mmscaler.fit_transform(averages[['Votes']]), label = 'Votes')\n",
    "plt.plot(averages.Season, mmscaler.fit_transform(averages[['Viewership']]), label = 'Viewership')\n",
    "plt.xlabel('Season')\n",
    "plt.ylabel('Normalized Values')\n",
    "plt.title('Average Ratings, Votes and Viewership against Season')\n",
    "plt.legend()\n",
    "plt.show()"
   ]
  },
  {
   "cell_type": "markdown",
   "id": "cd57defd",
   "metadata": {},
   "source": [
    "### Adding of has_guests column"
   ]
  },
  {
   "cell_type": "code",
   "execution_count": 9,
   "id": "5f291d1b",
   "metadata": {},
   "outputs": [
    {
     "data": {
      "text/html": [
       "<div>\n",
       "<style scoped>\n",
       "    .dataframe tbody tr th:only-of-type {\n",
       "        vertical-align: middle;\n",
       "    }\n",
       "\n",
       "    .dataframe tbody tr th {\n",
       "        vertical-align: top;\n",
       "    }\n",
       "\n",
       "    .dataframe thead th {\n",
       "        text-align: right;\n",
       "    }\n",
       "</style>\n",
       "<table border=\"1\" class=\"dataframe\">\n",
       "  <thead>\n",
       "    <tr style=\"text-align: right;\">\n",
       "      <th></th>\n",
       "      <th>Season</th>\n",
       "      <th>EpisodeTitle</th>\n",
       "      <th>About</th>\n",
       "      <th>Ratings</th>\n",
       "      <th>Votes</th>\n",
       "      <th>Viewership</th>\n",
       "      <th>Duration</th>\n",
       "      <th>Date</th>\n",
       "      <th>GuestStars</th>\n",
       "      <th>Director</th>\n",
       "      <th>Writers</th>\n",
       "      <th>has_guests</th>\n",
       "    </tr>\n",
       "  </thead>\n",
       "  <tbody>\n",
       "    <tr>\n",
       "      <th>0</th>\n",
       "      <td>1</td>\n",
       "      <td>Pilot</td>\n",
       "      <td>The premiere episode introduces the boss and s...</td>\n",
       "      <td>7.5</td>\n",
       "      <td>4936</td>\n",
       "      <td>11.2</td>\n",
       "      <td>23</td>\n",
       "      <td>2005-03-24</td>\n",
       "      <td>NaN</td>\n",
       "      <td>Ken Kwapis</td>\n",
       "      <td>Ricky Gervais |Stephen Merchant and Greg Daniels</td>\n",
       "      <td>False</td>\n",
       "    </tr>\n",
       "    <tr>\n",
       "      <th>1</th>\n",
       "      <td>1</td>\n",
       "      <td>Diversity Day</td>\n",
       "      <td>Michael's off color remark puts a sensitivity ...</td>\n",
       "      <td>8.3</td>\n",
       "      <td>4801</td>\n",
       "      <td>6.0</td>\n",
       "      <td>23</td>\n",
       "      <td>2005-03-29</td>\n",
       "      <td>NaN</td>\n",
       "      <td>Ken Kwapis</td>\n",
       "      <td>B. J. Novak</td>\n",
       "      <td>False</td>\n",
       "    </tr>\n",
       "    <tr>\n",
       "      <th>2</th>\n",
       "      <td>1</td>\n",
       "      <td>Health Care</td>\n",
       "      <td>Michael leaves Dwight in charge of picking the...</td>\n",
       "      <td>7.8</td>\n",
       "      <td>4024</td>\n",
       "      <td>5.8</td>\n",
       "      <td>22</td>\n",
       "      <td>2005-04-05</td>\n",
       "      <td>NaN</td>\n",
       "      <td>Ken Whittingham</td>\n",
       "      <td>Paul Lieberstein</td>\n",
       "      <td>False</td>\n",
       "    </tr>\n",
       "    <tr>\n",
       "      <th>3</th>\n",
       "      <td>1</td>\n",
       "      <td>The Alliance</td>\n",
       "      <td>Just for a laugh, Jim agrees to an alliance wi...</td>\n",
       "      <td>8.1</td>\n",
       "      <td>3915</td>\n",
       "      <td>5.4</td>\n",
       "      <td>23</td>\n",
       "      <td>2005-04-12</td>\n",
       "      <td>NaN</td>\n",
       "      <td>Bryan Gordon</td>\n",
       "      <td>Michael Schur</td>\n",
       "      <td>False</td>\n",
       "    </tr>\n",
       "    <tr>\n",
       "      <th>4</th>\n",
       "      <td>1</td>\n",
       "      <td>Basketball</td>\n",
       "      <td>Michael and his staff challenge the warehouse ...</td>\n",
       "      <td>8.4</td>\n",
       "      <td>4294</td>\n",
       "      <td>5.0</td>\n",
       "      <td>23</td>\n",
       "      <td>2005-04-19</td>\n",
       "      <td>NaN</td>\n",
       "      <td>Greg Daniels</td>\n",
       "      <td>Greg Daniels</td>\n",
       "      <td>False</td>\n",
       "    </tr>\n",
       "  </tbody>\n",
       "</table>\n",
       "</div>"
      ],
      "text/plain": [
       "   Season   EpisodeTitle                                              About  \\\n",
       "0       1          Pilot  The premiere episode introduces the boss and s...   \n",
       "1       1  Diversity Day  Michael's off color remark puts a sensitivity ...   \n",
       "2       1    Health Care  Michael leaves Dwight in charge of picking the...   \n",
       "3       1   The Alliance  Just for a laugh, Jim agrees to an alliance wi...   \n",
       "4       1     Basketball  Michael and his staff challenge the warehouse ...   \n",
       "\n",
       "   Ratings  Votes  Viewership  Duration       Date GuestStars  \\\n",
       "0      7.5   4936        11.2        23 2005-03-24        NaN   \n",
       "1      8.3   4801         6.0        23 2005-03-29        NaN   \n",
       "2      7.8   4024         5.8        22 2005-04-05        NaN   \n",
       "3      8.1   3915         5.4        23 2005-04-12        NaN   \n",
       "4      8.4   4294         5.0        23 2005-04-19        NaN   \n",
       "\n",
       "          Director                                           Writers  \\\n",
       "0       Ken Kwapis  Ricky Gervais |Stephen Merchant and Greg Daniels   \n",
       "1       Ken Kwapis                                       B. J. Novak   \n",
       "2  Ken Whittingham                                  Paul Lieberstein   \n",
       "3     Bryan Gordon                                     Michael Schur   \n",
       "4     Greg Daniels                                      Greg Daniels   \n",
       "\n",
       "   has_guests  \n",
       "0       False  \n",
       "1       False  \n",
       "2       False  \n",
       "3       False  \n",
       "4       False  "
      ]
     },
     "execution_count": 9,
     "metadata": {},
     "output_type": "execute_result"
    }
   ],
   "source": [
    "office['has_guests'] = office.GuestStars.notna()\n",
    "office.head()"
   ]
  },
  {
   "cell_type": "markdown",
   "id": "4ad4cafa",
   "metadata": {},
   "source": [
    "### Group by Season and has_guests and calculate the average of the Ratings, Votes and Viewership columns"
   ]
  },
  {
   "cell_type": "code",
   "execution_count": 10,
   "id": "106b542b",
   "metadata": {},
   "outputs": [
    {
     "data": {
      "text/html": [
       "<div>\n",
       "<style scoped>\n",
       "    .dataframe tbody tr th:only-of-type {\n",
       "        vertical-align: middle;\n",
       "    }\n",
       "\n",
       "    .dataframe tbody tr th {\n",
       "        vertical-align: top;\n",
       "    }\n",
       "\n",
       "    .dataframe thead th {\n",
       "        text-align: right;\n",
       "    }\n",
       "</style>\n",
       "<table border=\"1\" class=\"dataframe\">\n",
       "  <thead>\n",
       "    <tr style=\"text-align: right;\">\n",
       "      <th></th>\n",
       "      <th>Season</th>\n",
       "      <th>has_guests</th>\n",
       "      <th>Ratings</th>\n",
       "      <th>Votes</th>\n",
       "      <th>Viewership</th>\n",
       "    </tr>\n",
       "  </thead>\n",
       "  <tbody>\n",
       "    <tr>\n",
       "      <th>0</th>\n",
       "      <td>1</td>\n",
       "      <td>False</td>\n",
       "      <td>8.020000</td>\n",
       "      <td>4394.000000</td>\n",
       "      <td>6.680000</td>\n",
       "    </tr>\n",
       "    <tr>\n",
       "      <th>1</th>\n",
       "      <td>1</td>\n",
       "      <td>True</td>\n",
       "      <td>7.700000</td>\n",
       "      <td>3854.000000</td>\n",
       "      <td>4.800000</td>\n",
       "    </tr>\n",
       "    <tr>\n",
       "      <th>2</th>\n",
       "      <td>2</td>\n",
       "      <td>False</td>\n",
       "      <td>8.437500</td>\n",
       "      <td>3505.187500</td>\n",
       "      <td>8.159375</td>\n",
       "    </tr>\n",
       "    <tr>\n",
       "      <th>3</th>\n",
       "      <td>2</td>\n",
       "      <td>True</td>\n",
       "      <td>8.450000</td>\n",
       "      <td>3463.833333</td>\n",
       "      <td>8.191667</td>\n",
       "    </tr>\n",
       "    <tr>\n",
       "      <th>4</th>\n",
       "      <td>3</td>\n",
       "      <td>False</td>\n",
       "      <td>8.604545</td>\n",
       "      <td>3233.045455</td>\n",
       "      <td>8.526818</td>\n",
       "    </tr>\n",
       "    <tr>\n",
       "      <th>5</th>\n",
       "      <td>3</td>\n",
       "      <td>True</td>\n",
       "      <td>8.200000</td>\n",
       "      <td>3027.000000</td>\n",
       "      <td>7.780000</td>\n",
       "    </tr>\n",
       "    <tr>\n",
       "      <th>6</th>\n",
       "      <td>4</td>\n",
       "      <td>False</td>\n",
       "      <td>8.576923</td>\n",
       "      <td>3222.692308</td>\n",
       "      <td>8.520000</td>\n",
       "    </tr>\n",
       "    <tr>\n",
       "      <th>7</th>\n",
       "      <td>4</td>\n",
       "      <td>True</td>\n",
       "      <td>8.400000</td>\n",
       "      <td>2844.000000</td>\n",
       "      <td>8.910000</td>\n",
       "    </tr>\n",
       "    <tr>\n",
       "      <th>8</th>\n",
       "      <td>5</td>\n",
       "      <td>False</td>\n",
       "      <td>8.452174</td>\n",
       "      <td>2682.565217</td>\n",
       "      <td>8.166087</td>\n",
       "    </tr>\n",
       "    <tr>\n",
       "      <th>9</th>\n",
       "      <td>5</td>\n",
       "      <td>True</td>\n",
       "      <td>8.766667</td>\n",
       "      <td>4442.333333</td>\n",
       "      <td>13.283333</td>\n",
       "    </tr>\n",
       "    <tr>\n",
       "      <th>10</th>\n",
       "      <td>6</td>\n",
       "      <td>False</td>\n",
       "      <td>8.230435</td>\n",
       "      <td>2524.043478</td>\n",
       "      <td>7.715652</td>\n",
       "    </tr>\n",
       "    <tr>\n",
       "      <th>11</th>\n",
       "      <td>6</td>\n",
       "      <td>True</td>\n",
       "      <td>7.933333</td>\n",
       "      <td>2361.666667</td>\n",
       "      <td>8.153333</td>\n",
       "    </tr>\n",
       "    <tr>\n",
       "      <th>12</th>\n",
       "      <td>7</td>\n",
       "      <td>False</td>\n",
       "      <td>8.384211</td>\n",
       "      <td>2869.631579</td>\n",
       "      <td>7.209474</td>\n",
       "    </tr>\n",
       "    <tr>\n",
       "      <th>13</th>\n",
       "      <td>7</td>\n",
       "      <td>True</td>\n",
       "      <td>8.020000</td>\n",
       "      <td>2286.200000</td>\n",
       "      <td>7.672000</td>\n",
       "    </tr>\n",
       "    <tr>\n",
       "      <th>14</th>\n",
       "      <td>8</td>\n",
       "      <td>False</td>\n",
       "      <td>7.576190</td>\n",
       "      <td>2037.809524</td>\n",
       "      <td>5.381905</td>\n",
       "    </tr>\n",
       "    <tr>\n",
       "      <th>15</th>\n",
       "      <td>8</td>\n",
       "      <td>True</td>\n",
       "      <td>7.800000</td>\n",
       "      <td>2049.333333</td>\n",
       "      <td>5.410000</td>\n",
       "    </tr>\n",
       "    <tr>\n",
       "      <th>16</th>\n",
       "      <td>9</td>\n",
       "      <td>False</td>\n",
       "      <td>7.817647</td>\n",
       "      <td>2102.705882</td>\n",
       "      <td>4.069412</td>\n",
       "    </tr>\n",
       "    <tr>\n",
       "      <th>17</th>\n",
       "      <td>9</td>\n",
       "      <td>True</td>\n",
       "      <td>8.183333</td>\n",
       "      <td>3533.000000</td>\n",
       "      <td>4.335000</td>\n",
       "    </tr>\n",
       "  </tbody>\n",
       "</table>\n",
       "</div>"
      ],
      "text/plain": [
       "    Season  has_guests   Ratings        Votes  Viewership\n",
       "0        1       False  8.020000  4394.000000    6.680000\n",
       "1        1        True  7.700000  3854.000000    4.800000\n",
       "2        2       False  8.437500  3505.187500    8.159375\n",
       "3        2        True  8.450000  3463.833333    8.191667\n",
       "4        3       False  8.604545  3233.045455    8.526818\n",
       "5        3        True  8.200000  3027.000000    7.780000\n",
       "6        4       False  8.576923  3222.692308    8.520000\n",
       "7        4        True  8.400000  2844.000000    8.910000\n",
       "8        5       False  8.452174  2682.565217    8.166087\n",
       "9        5        True  8.766667  4442.333333   13.283333\n",
       "10       6       False  8.230435  2524.043478    7.715652\n",
       "11       6        True  7.933333  2361.666667    8.153333\n",
       "12       7       False  8.384211  2869.631579    7.209474\n",
       "13       7        True  8.020000  2286.200000    7.672000\n",
       "14       8       False  7.576190  2037.809524    5.381905\n",
       "15       8        True  7.800000  2049.333333    5.410000\n",
       "16       9       False  7.817647  2102.705882    4.069412\n",
       "17       9        True  8.183333  3533.000000    4.335000"
      ]
     },
     "execution_count": 10,
     "metadata": {},
     "output_type": "execute_result"
    }
   ],
   "source": [
    "guests_average = office.groupby(['Season', 'has_guests'])[['Ratings', 'Votes', 'Viewership']].mean().reset_index()\n",
    "guests_average"
   ]
  },
  {
   "cell_type": "markdown",
   "id": "9fe43508",
   "metadata": {},
   "source": [
    "### Function to plot bar chart of the average Ratings, Votes and Viewership by Season and Has_guests"
   ]
  },
  {
   "cell_type": "code",
   "execution_count": 11,
   "id": "ba1733e6",
   "metadata": {},
   "outputs": [],
   "source": [
    "def barchart_avg(df, x_values, y_values):\n",
    "    sns.set_style('ticks')\n",
    "    sns.set_context('poster', font_scale = 0.8)\n",
    "    sns.set_palette('Set1')\n",
    "    sns.barplot(data = df, x = x_values, y = y_values, hue = 'has_guests')\n",
    "    plt.title('Average ' + y_values + ' per Season by Guest Stars Appearance')\n",
    "    plt.show()"
   ]
  },
  {
   "cell_type": "markdown",
   "id": "1331c339",
   "metadata": {},
   "source": [
    "### Average Ratings against Season"
   ]
  },
  {
   "cell_type": "code",
   "execution_count": 12,
   "id": "d5222e33",
   "metadata": {},
   "outputs": [
    {
     "data": {
      "image/png": "[encoded data removed]",
      "text/plain": [
       "<Figure size 432x288 with 1 Axes>"
      ]
     },
     "metadata": {},
     "output_type": "display_data"
    }
   ],
   "source": [
    "ratings_avg = barchart_avg(guests_average, 'Season', 'Ratings')\n",
    "ratings_avg"
   ]
  },
  {
   "cell_type": "markdown",
   "id": "4fb498aa",
   "metadata": {},
   "source": [
    "### Average Votes against Season"
   ]
  },
  {
   "cell_type": "code",
   "execution_count": 13,
   "id": "76f877f2",
   "metadata": {},
   "outputs": [
    {
     "data": {
      "image/png": "[encoded data removed]",
      "text/plain": [
       "<Figure size 432x288 with 1 Axes>"
      ]
     },
     "metadata": {},
     "output_type": "display_data"
    }
   ],
   "source": [
    "votes_avg = barchart_avg(guests_average, 'Season', 'Votes')\n",
    "votes_avg"
   ]
  },
  {
   "cell_type": "markdown",
   "id": "6cd2a23e",
   "metadata": {},
   "source": [
    "### Average Viewership against Season"
   ]
  },
  {
   "cell_type": "code",
   "execution_count": 14,
   "id": "3fe9a847",
   "metadata": {},
   "outputs": [
    {
     "data": {
      "image/png": "[encoded data removed]",
      "text/plain": [
       "<Figure size 432x288 with 1 Axes>"
      ]
     },
     "metadata": {},
     "output_type": "display_data"
    }
   ],
   "source": [
    "views_avg = barchart_avg(guests_average, 'Season', 'Viewership')\n",
    "views_avg"
   ]
  },
  {
   "cell_type": "markdown",
   "id": "e36593e8",
   "metadata": {},
   "source": [
    "### Getting the guests dataframe"
   ]
  },
  {
   "cell_type": "code",
   "execution_count": 15,
   "id": "279d5c08",
   "metadata": {
    "scrolled": true
   },
   "outputs": [
    {
     "data": {
      "text/html": [
       "<div>\n",
       "<style scoped>\n",
       "    .dataframe tbody tr th:only-of-type {\n",
       "        vertical-align: middle;\n",
       "    }\n",
       "\n",
       "    .dataframe tbody tr th {\n",
       "        vertical-align: top;\n",
       "    }\n",
       "\n",
       "    .dataframe thead th {\n",
       "        text-align: right;\n",
       "    }\n",
       "</style>\n",
       "<table border=\"1\" class=\"dataframe\">\n",
       "  <thead>\n",
       "    <tr style=\"text-align: right;\">\n",
       "      <th></th>\n",
       "      <th>Season</th>\n",
       "      <th>EpisodeTitle</th>\n",
       "      <th>About</th>\n",
       "      <th>Ratings</th>\n",
       "      <th>Votes</th>\n",
       "      <th>Viewership</th>\n",
       "      <th>Duration</th>\n",
       "      <th>Date</th>\n",
       "      <th>GuestStars</th>\n",
       "      <th>Director</th>\n",
       "      <th>Writers</th>\n",
       "      <th>has_guests</th>\n",
       "    </tr>\n",
       "  </thead>\n",
       "  <tbody>\n",
       "    <tr>\n",
       "      <th>5</th>\n",
       "      <td>1</td>\n",
       "      <td>Hot Girl</td>\n",
       "      <td>Michael is just one of the many male staff who...</td>\n",
       "      <td>7.7</td>\n",
       "      <td>3854</td>\n",
       "      <td>4.8</td>\n",
       "      <td>23</td>\n",
       "      <td>2005-04-26</td>\n",
       "      <td>Amy Adams</td>\n",
       "      <td>Amy Heckerling</td>\n",
       "      <td>Mindy Kaling</td>\n",
       "      <td>True</td>\n",
       "    </tr>\n",
       "    <tr>\n",
       "      <th>8</th>\n",
       "      <td>2</td>\n",
       "      <td>Office Olympics</td>\n",
       "      <td>Ready to finalize his deal for a new condo, Mi...</td>\n",
       "      <td>8.4</td>\n",
       "      <td>3665</td>\n",
       "      <td>8.3</td>\n",
       "      <td>22</td>\n",
       "      <td>2005-10-04</td>\n",
       "      <td>Nancy Carell</td>\n",
       "      <td>Paul Feig</td>\n",
       "      <td>Michael Schur</td>\n",
       "      <td>True</td>\n",
       "    </tr>\n",
       "    <tr>\n",
       "      <th>9</th>\n",
       "      <td>2</td>\n",
       "      <td>The Fire</td>\n",
       "      <td>A fire in the kitchen relegates the staff to t...</td>\n",
       "      <td>8.4</td>\n",
       "      <td>3607</td>\n",
       "      <td>7.6</td>\n",
       "      <td>22</td>\n",
       "      <td>2005-10-11</td>\n",
       "      <td>Amy Adams</td>\n",
       "      <td>Ken Kwapis</td>\n",
       "      <td>B. J. Novak</td>\n",
       "      <td>True</td>\n",
       "    </tr>\n",
       "    <tr>\n",
       "      <th>12</th>\n",
       "      <td>2</td>\n",
       "      <td>The Client</td>\n",
       "      <td>With Michael and Jan Levinson-Gould away from ...</td>\n",
       "      <td>8.6</td>\n",
       "      <td>3533</td>\n",
       "      <td>7.5</td>\n",
       "      <td>22</td>\n",
       "      <td>2005-11-08</td>\n",
       "      <td>Tim Meadows</td>\n",
       "      <td>Greg Daniels</td>\n",
       "      <td>Paul Lieberstein</td>\n",
       "      <td>True</td>\n",
       "    </tr>\n",
       "    <tr>\n",
       "      <th>14</th>\n",
       "      <td>2</td>\n",
       "      <td>E-Mail Surveillance</td>\n",
       "      <td>Michael decides to set up e-mail surveillance ...</td>\n",
       "      <td>8.4</td>\n",
       "      <td>3338</td>\n",
       "      <td>8.1</td>\n",
       "      <td>23</td>\n",
       "      <td>2005-11-22</td>\n",
       "      <td>Ken Jeong</td>\n",
       "      <td>Paul Feig</td>\n",
       "      <td>Jennifer Celotta</td>\n",
       "      <td>True</td>\n",
       "    </tr>\n",
       "  </tbody>\n",
       "</table>\n",
       "</div>"
      ],
      "text/plain": [
       "    Season         EpisodeTitle  \\\n",
       "5        1             Hot Girl   \n",
       "8        2      Office Olympics   \n",
       "9        2             The Fire   \n",
       "12       2           The Client   \n",
       "14       2  E-Mail Surveillance   \n",
       "\n",
       "                                                About  Ratings  Votes  \\\n",
       "5   Michael is just one of the many male staff who...      7.7   3854   \n",
       "8   Ready to finalize his deal for a new condo, Mi...      8.4   3665   \n",
       "9   A fire in the kitchen relegates the staff to t...      8.4   3607   \n",
       "12  With Michael and Jan Levinson-Gould away from ...      8.6   3533   \n",
       "14  Michael decides to set up e-mail surveillance ...      8.4   3338   \n",
       "\n",
       "    Viewership  Duration       Date    GuestStars        Director  \\\n",
       "5          4.8        23 2005-04-26     Amy Adams  Amy Heckerling   \n",
       "8          8.3        22 2005-10-04  Nancy Carell       Paul Feig   \n",
       "9          7.6        22 2005-10-11     Amy Adams      Ken Kwapis   \n",
       "12         7.5        22 2005-11-08   Tim Meadows    Greg Daniels   \n",
       "14         8.1        23 2005-11-22     Ken Jeong       Paul Feig   \n",
       "\n",
       "             Writers  has_guests  \n",
       "5       Mindy Kaling        True  \n",
       "8      Michael Schur        True  \n",
       "9        B. J. Novak        True  \n",
       "12  Paul Lieberstein        True  \n",
       "14  Jennifer Celotta        True  "
      ]
     },
     "execution_count": 15,
     "metadata": {},
     "output_type": "execute_result"
    }
   ],
   "source": [
    "guests = office[office.has_guests == True].copy()\n",
    "guests.head()"
   ]
  },
  {
   "cell_type": "markdown",
   "id": "87dfb43d",
   "metadata": {},
   "source": [
    "### Adding the number of guests stars as a column"
   ]
  },
  {
   "cell_type": "code",
   "execution_count": 16,
   "id": "e7c110a9",
   "metadata": {},
   "outputs": [
    {
     "data": {
      "text/html": [
       "<div>\n",
       "<style scoped>\n",
       "    .dataframe tbody tr th:only-of-type {\n",
       "        vertical-align: middle;\n",
       "    }\n",
       "\n",
       "    .dataframe tbody tr th {\n",
       "        vertical-align: top;\n",
       "    }\n",
       "\n",
       "    .dataframe thead th {\n",
       "        text-align: right;\n",
       "    }\n",
       "</style>\n",
       "<table border=\"1\" class=\"dataframe\">\n",
       "  <thead>\n",
       "    <tr style=\"text-align: right;\">\n",
       "      <th></th>\n",
       "      <th>Season</th>\n",
       "      <th>EpisodeTitle</th>\n",
       "      <th>About</th>\n",
       "      <th>Ratings</th>\n",
       "      <th>Votes</th>\n",
       "      <th>Viewership</th>\n",
       "      <th>Duration</th>\n",
       "      <th>Date</th>\n",
       "      <th>GuestStars</th>\n",
       "      <th>Director</th>\n",
       "      <th>Writers</th>\n",
       "      <th>has_guests</th>\n",
       "      <th>num_guests</th>\n",
       "    </tr>\n",
       "  </thead>\n",
       "  <tbody>\n",
       "    <tr>\n",
       "      <th>5</th>\n",
       "      <td>1</td>\n",
       "      <td>Hot Girl</td>\n",
       "      <td>Michael is just one of the many male staff who...</td>\n",
       "      <td>7.7</td>\n",
       "      <td>3854</td>\n",
       "      <td>4.8</td>\n",
       "      <td>23</td>\n",
       "      <td>2005-04-26</td>\n",
       "      <td>Amy Adams</td>\n",
       "      <td>Amy Heckerling</td>\n",
       "      <td>Mindy Kaling</td>\n",
       "      <td>True</td>\n",
       "      <td>1</td>\n",
       "    </tr>\n",
       "    <tr>\n",
       "      <th>8</th>\n",
       "      <td>2</td>\n",
       "      <td>Office Olympics</td>\n",
       "      <td>Ready to finalize his deal for a new condo, Mi...</td>\n",
       "      <td>8.4</td>\n",
       "      <td>3665</td>\n",
       "      <td>8.3</td>\n",
       "      <td>22</td>\n",
       "      <td>2005-10-04</td>\n",
       "      <td>Nancy Carell</td>\n",
       "      <td>Paul Feig</td>\n",
       "      <td>Michael Schur</td>\n",
       "      <td>True</td>\n",
       "      <td>1</td>\n",
       "    </tr>\n",
       "    <tr>\n",
       "      <th>9</th>\n",
       "      <td>2</td>\n",
       "      <td>The Fire</td>\n",
       "      <td>A fire in the kitchen relegates the staff to t...</td>\n",
       "      <td>8.4</td>\n",
       "      <td>3607</td>\n",
       "      <td>7.6</td>\n",
       "      <td>22</td>\n",
       "      <td>2005-10-11</td>\n",
       "      <td>Amy Adams</td>\n",
       "      <td>Ken Kwapis</td>\n",
       "      <td>B. J. Novak</td>\n",
       "      <td>True</td>\n",
       "      <td>1</td>\n",
       "    </tr>\n",
       "    <tr>\n",
       "      <th>12</th>\n",
       "      <td>2</td>\n",
       "      <td>The Client</td>\n",
       "      <td>With Michael and Jan Levinson-Gould away from ...</td>\n",
       "      <td>8.6</td>\n",
       "      <td>3533</td>\n",
       "      <td>7.5</td>\n",
       "      <td>22</td>\n",
       "      <td>2005-11-08</td>\n",
       "      <td>Tim Meadows</td>\n",
       "      <td>Greg Daniels</td>\n",
       "      <td>Paul Lieberstein</td>\n",
       "      <td>True</td>\n",
       "      <td>1</td>\n",
       "    </tr>\n",
       "    <tr>\n",
       "      <th>14</th>\n",
       "      <td>2</td>\n",
       "      <td>E-Mail Surveillance</td>\n",
       "      <td>Michael decides to set up e-mail surveillance ...</td>\n",
       "      <td>8.4</td>\n",
       "      <td>3338</td>\n",
       "      <td>8.1</td>\n",
       "      <td>23</td>\n",
       "      <td>2005-11-22</td>\n",
       "      <td>Ken Jeong</td>\n",
       "      <td>Paul Feig</td>\n",
       "      <td>Jennifer Celotta</td>\n",
       "      <td>True</td>\n",
       "      <td>1</td>\n",
       "    </tr>\n",
       "  </tbody>\n",
       "</table>\n",
       "</div>"
      ],
      "text/plain": [
       "    Season         EpisodeTitle  \\\n",
       "5        1             Hot Girl   \n",
       "8        2      Office Olympics   \n",
       "9        2             The Fire   \n",
       "12       2           The Client   \n",
       "14       2  E-Mail Surveillance   \n",
       "\n",
       "                                                About  Ratings  Votes  \\\n",
       "5   Michael is just one of the many male staff who...      7.7   3854   \n",
       "8   Ready to finalize his deal for a new condo, Mi...      8.4   3665   \n",
       "9   A fire in the kitchen relegates the staff to t...      8.4   3607   \n",
       "12  With Michael and Jan Levinson-Gould away from ...      8.6   3533   \n",
       "14  Michael decides to set up e-mail surveillance ...      8.4   3338   \n",
       "\n",
       "    Viewership  Duration       Date    GuestStars        Director  \\\n",
       "5          4.8        23 2005-04-26     Amy Adams  Amy Heckerling   \n",
       "8          8.3        22 2005-10-04  Nancy Carell       Paul Feig   \n",
       "9          7.6        22 2005-10-11     Amy Adams      Ken Kwapis   \n",
       "12         7.5        22 2005-11-08   Tim Meadows    Greg Daniels   \n",
       "14         8.1        23 2005-11-22     Ken Jeong       Paul Feig   \n",
       "\n",
       "             Writers  has_guests  num_guests  \n",
       "5       Mindy Kaling        True           1  \n",
       "8      Michael Schur        True           1  \n",
       "9        B. J. Novak        True           1  \n",
       "12  Paul Lieberstein        True           1  \n",
       "14  Jennifer Celotta        True           1  "
      ]
     },
     "execution_count": 16,
     "metadata": {},
     "output_type": "execute_result"
    }
   ],
   "source": [
    "num_guests = []\n",
    "for i in guests.GuestStars:\n",
    "    num_guests.append(len(i.split(',')))\n",
    "\n",
    "guests['num_guests'] = num_guests\n",
    "guests.head()"
   ]
  },
  {
   "cell_type": "markdown",
   "id": "582c8884",
   "metadata": {},
   "source": [
    "### Number of Guests Stars in each Season"
   ]
  },
  {
   "cell_type": "code",
   "execution_count": 17,
   "id": "a9d84f8e",
   "metadata": {},
   "outputs": [
    {
     "data": {
      "text/html": [
       "<div>\n",
       "<style scoped>\n",
       "    .dataframe tbody tr th:only-of-type {\n",
       "        vertical-align: middle;\n",
       "    }\n",
       "\n",
       "    .dataframe tbody tr th {\n",
       "        vertical-align: top;\n",
       "    }\n",
       "\n",
       "    .dataframe thead th {\n",
       "        text-align: right;\n",
       "    }\n",
       "</style>\n",
       "<table border=\"1\" class=\"dataframe\">\n",
       "  <thead>\n",
       "    <tr style=\"text-align: right;\">\n",
       "      <th></th>\n",
       "      <th>Season</th>\n",
       "      <th>num_guests</th>\n",
       "    </tr>\n",
       "  </thead>\n",
       "  <tbody>\n",
       "    <tr>\n",
       "      <th>0</th>\n",
       "      <td>1</td>\n",
       "      <td>1</td>\n",
       "    </tr>\n",
       "    <tr>\n",
       "      <th>1</th>\n",
       "      <td>2</td>\n",
       "      <td>6</td>\n",
       "    </tr>\n",
       "    <tr>\n",
       "      <th>2</th>\n",
       "      <td>3</td>\n",
       "      <td>1</td>\n",
       "    </tr>\n",
       "    <tr>\n",
       "      <th>3</th>\n",
       "      <td>4</td>\n",
       "      <td>1</td>\n",
       "    </tr>\n",
       "    <tr>\n",
       "      <th>4</th>\n",
       "      <td>5</td>\n",
       "      <td>5</td>\n",
       "    </tr>\n",
       "    <tr>\n",
       "      <th>5</th>\n",
       "      <td>6</td>\n",
       "      <td>3</td>\n",
       "    </tr>\n",
       "    <tr>\n",
       "      <th>6</th>\n",
       "      <td>7</td>\n",
       "      <td>8</td>\n",
       "    </tr>\n",
       "    <tr>\n",
       "      <th>7</th>\n",
       "      <td>8</td>\n",
       "      <td>4</td>\n",
       "    </tr>\n",
       "    <tr>\n",
       "      <th>8</th>\n",
       "      <td>9</td>\n",
       "      <td>9</td>\n",
       "    </tr>\n",
       "  </tbody>\n",
       "</table>\n",
       "</div>"
      ],
      "text/plain": [
       "   Season  num_guests\n",
       "0       1           1\n",
       "1       2           6\n",
       "2       3           1\n",
       "3       4           1\n",
       "4       5           5\n",
       "5       6           3\n",
       "6       7           8\n",
       "7       8           4\n",
       "8       9           9"
      ]
     },
     "execution_count": 17,
     "metadata": {},
     "output_type": "execute_result"
    }
   ],
   "source": [
    "num_guests_avg = guests.groupby('Season').num_guests.sum().reset_index()\n",
    "num_guests_avg"
   ]
  },
  {
   "cell_type": "markdown",
   "id": "eaba667b",
   "metadata": {},
   "source": [
    "### Bar Chart of Guests Stars in each Season"
   ]
  },
  {
   "cell_type": "code",
   "execution_count": 18,
   "id": "b1d9a43d",
   "metadata": {},
   "outputs": [
    {
     "data": {
      "image/png": "[encoded data removed]",
      "text/plain": [
       "<Figure size 432x288 with 1 Axes>"
      ]
     },
     "metadata": {},
     "output_type": "display_data"
    }
   ],
   "source": [
    "sns.set_style('darkgrid')\n",
    "sns.set_context('paper', font_scale = 1.5)\n",
    "sns.set_palette('Set2')\n",
    "sns.barplot(data = num_guests_avg, x = 'Season', y = 'num_guests')\n",
    "plt.title('Number of Guest Stars in Each Season')\n",
    "plt.show()"
   ]
  },
  {
   "cell_type": "markdown",
   "id": "c147c4f4",
   "metadata": {},
   "source": [
    "### Function to plot bar chart of the Ratings, Votes and Viewership by Season and num_guests"
   ]
  },
  {
   "cell_type": "code",
   "execution_count": 19,
   "id": "95e358ee",
   "metadata": {},
   "outputs": [],
   "source": [
    "def barchart(df, x_values, y_values):\n",
    "    sns.set_style('ticks')\n",
    "    sns.set_context('paper', font_scale = 1)\n",
    "    sns.set_palette('Set2')\n",
    "    sns.barplot(data = guests, x = x_values, y = y_values, hue = 'num_guests', ci = None)\n",
    "    plt.title(y_values + ' per Season by Number of Guest Stars in each Episode')\n",
    "    plt.show()"
   ]
  },
  {
   "cell_type": "markdown",
   "id": "8fc72228",
   "metadata": {},
   "source": [
    "### Ratings of episodes with Guest Stars against Season"
   ]
  },
  {
   "cell_type": "code",
   "execution_count": 20,
   "id": "61ec3abc",
   "metadata": {},
   "outputs": [
    {
     "data": {
      "image/png": "[encoded data removed]",
      "text/plain": [
       "<Figure size 432x288 with 1 Axes>"
      ]
     },
     "metadata": {},
     "output_type": "display_data"
    }
   ],
   "source": [
    "ratings_guests = barchart(guests, 'Season', 'Ratings')\n",
    "ratings_guests"
   ]
  },
  {
   "cell_type": "markdown",
   "id": "9e8a80be",
   "metadata": {},
   "source": [
    "### Votes of episodes with Guest Stars against Season"
   ]
  },
  {
   "cell_type": "code",
   "execution_count": 21,
   "id": "bafa66b3",
   "metadata": {},
   "outputs": [
    {
     "data": {
      "image/png": "[encoded data removed]",
      "text/plain": [
       "<Figure size 432x288 with 1 Axes>"
      ]
     },
     "metadata": {},
     "output_type": "display_data"
    }
   ],
   "source": [
    "votes_guests = barchart(guests, 'Season', 'Votes')\n",
    "votes_guests"
   ]
  },
  {
   "cell_type": "markdown",
   "id": "4e560b29",
   "metadata": {},
   "source": [
    "### Views of episodes with Guest Stars against Season"
   ]
  },
  {
   "cell_type": "code",
   "execution_count": 22,
   "id": "0a9f5fd3",
   "metadata": {},
   "outputs": [
    {
     "data": {
      "image/png": "[encoded data removed]",
      "text/plain": [
       "<Figure size 432x288 with 1 Axes>"
      ]
     },
     "metadata": {},
     "output_type": "display_data"
    }
   ],
   "source": [
    "views_guests = barchart(guests, 'Season', 'Viewership')\n",
    "views_guests"
   ]
  },
  {
   "cell_type": "code",
   "execution_count": null,
   "id": "45330c7b",
   "metadata": {},
   "outputs": [],
   "source": []
  }
 ],
 "metadata": {
  "kernelspec": {
   "display_name": "Python 3",
   "language": "python",
   "name": "python3"
  },
  "language_info": {
   "codemirror_mode": {
    "name": "ipython",
    "version": 3
   },
   "file_extension": ".py",
   "mimetype": "text/x-python",
   "name": "python",
   "nbconvert_exporter": "python",
   "pygments_lexer": "ipython3",
   "version": "3.8.8"
  }
 },
 "nbformat": 4,
 "nbformat_minor": 5
}
